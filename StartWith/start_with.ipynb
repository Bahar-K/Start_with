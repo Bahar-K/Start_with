{
 "cells": [
  {
   "cell_type": "code",
   "execution_count": 2,
   "metadata": {},
   "outputs": [],
   "source": [
    "import pandas as pd\n",
    "import random\n",
    "import string"
   ]
  },
  {
   "attachments": {},
   "cell_type": "markdown",
   "metadata": {},
   "source": [
    "### Notlar, Eklenecekler\n",
    "> Oyun süreli olacak <br>\n",
    "> Her üç soru sonunda great yaz. "
   ]
  },
  {
   "cell_type": "code",
   "execution_count": 3,
   "metadata": {},
   "outputs": [],
   "source": [
    "def questions():\n",
    "    questions = [\"Hello, how are you? \",\"What is your name?\",\"How old are you?\"]\n",
    "    random_question = random.choice(questions)\n",
    "    return random_question"
   ]
  },
  {
   "cell_type": "code",
   "execution_count": 4,
   "metadata": {},
   "outputs": [],
   "source": [
    "def character():\n",
    "    return random.choice(string.ascii_letters.lower())"
   ]
  },
  {
   "cell_type": "code",
   "execution_count": 5,
   "metadata": {},
   "outputs": [],
   "source": [
    "def get_answer(question,start_character):\n",
    "    answer = str(input(f\"{question}. (Youre answer should start with '{start_character}'.)\"))\n",
    "    return answer"
   ]
  },
  {
   "cell_type": "code",
   "execution_count": 6,
   "metadata": {},
   "outputs": [],
   "source": [
    "def score():\n",
    "    score = 0\n",
    "    for i in range(12):\n",
    "        score += 1\n",
    "    return score\n",
    "    "
   ]
  },
  {
   "cell_type": "code",
   "execution_count": 9,
   "metadata": {},
   "outputs": [],
   "source": [
    "def controle(answer,character):\n",
    "    score = 0 \n",
    "    for i in range(12):\n",
    "        answer = answer.lower()\n",
    "        if answer.startswith(character):\n",
    "            score += 1\n",
    "            return score\n",
    "        else:\n",
    "            return 0 "
   ]
  },
  {
   "cell_type": "code",
   "execution_count": 10,
   "metadata": {},
   "outputs": [
    {
     "data": {
      "text/plain": [
       "1"
      ]
     },
     "execution_count": 10,
     "metadata": {},
     "output_type": "execute_result"
    }
   ],
   "source": [
    "que = questions()\n",
    "cha = character()\n",
    "answer = get_answer(question=que,start_character=cha)\n",
    "#score = score()\n",
    "control = controle(answer=answer,character=cha)\n",
    "control"
   ]
  },
  {
   "cell_type": "code",
   "execution_count": null,
   "metadata": {},
   "outputs": [],
   "source": []
  },
  {
   "cell_type": "code",
   "execution_count": null,
   "metadata": {},
   "outputs": [],
   "source": []
  },
  {
   "cell_type": "code",
   "execution_count": null,
   "metadata": {},
   "outputs": [],
   "source": []
  }
 ],
 "metadata": {
  "kernelspec": {
   "display_name": "base",
   "language": "python",
   "name": "python3"
  },
  "language_info": {
   "codemirror_mode": {
    "name": "ipython",
    "version": 3
   },
   "file_extension": ".py",
   "mimetype": "text/x-python",
   "name": "python",
   "nbconvert_exporter": "python",
   "pygments_lexer": "ipython3",
   "version": "3.9.12"
  },
  "orig_nbformat": 4,
  "vscode": {
   "interpreter": {
    "hash": "2a154b213e4442ba6ce1490714f9d82716be9ee692542ee86b2e7108c62143a3"
   }
  }
 },
 "nbformat": 4,
 "nbformat_minor": 2
}
